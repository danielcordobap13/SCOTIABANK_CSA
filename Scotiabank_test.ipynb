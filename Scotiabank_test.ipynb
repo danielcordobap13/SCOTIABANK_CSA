{
 "cells": [
  {
   "cell_type": "markdown",
   "metadata": {},
   "source": [
    "# Resultado Prueba ScotiaBank"
   ]
  },
  {
   "cell_type": "markdown",
   "metadata": {},
   "source": [
    "### Danie Alejandro Cordoba Pulido"
   ]
  },
  {
   "cell_type": "markdown",
   "metadata": {},
   "source": [
    "<br>"
   ]
  },
  {
   "cell_type": "markdown",
   "metadata": {},
   "source": [
    "1- La prueba fue realizada usando la herramienta powerbi, ya que se consideró que el análisis pudiera ser meramente exploratorio sin llegar a desarrollar un algoritmo."
   ]
  },
  {
   "cell_type": "markdown",
   "metadata": {},
   "source": [
    "El tablero podra ser consultado en [este link](https://app.powerbi.com/view?r=eyJrIjoiNTk1Y2JiOWItYmZmNS00ZDNlLThlZjEtYzE1ZjEzZjJjMjJlIiwidCI6IjcxOGE2MTYzLWE5YzYtNDdlMi1iYzRjLTZmMjRmMGJjMjYyYyJ9&pageName=ReportSection):\n",
    "\n"
   ]
  },
  {
   "cell_type": "markdown",
   "metadata": {},
   "source": [
    "<br>\n",
    "\n",
    "1-\tEn la primera pestaña, se muestra la cantidad de clientes, la cantidad de llamadas y el porcentaje de llamadas que son contestadas, comunicadas con el dueño de la cuenta y recibido una respuesta afirmativa sobre el pago de la obligación."
   ]
  },
  {
   "cell_type": "markdown",
   "metadata": {},
   "source": [
    "2- En la segunda pestaña, se hace un análisis basados en la característica \"PTPUNIQUE\" ya que la idea es perfilar las personas que dan una respuesta positiva al momento de pagar una obligación."
   ]
  },
  {
   "cell_type": "markdown",
   "metadata": {},
   "source": [
    "Estas serían las conclusiones sobre esta pestaña:\n",
    "\n",
    "\n",
    "\n",
    "* La diferencia entre la cantidad de personas que responden afirmativamente y negativamente a la pregunta si van a cancelar su obligación ese mismo día, es bastante grande.\n",
    "\n",
    "\n",
    "\n",
    "* De las personas que contestan si a esta pregunta, la mayoría tienen productos CRD. El resto de categorías ( SPL, SPL_VEH y Mortgages) son proporcionalmente iguales.\n",
    "\n",
    "\n",
    "\n",
    "* Adicionalmente el 73,74% de personas que contestaron si a esta pregunta, se encuentran en estado 1, seguido de estado 2 y estado 5.\n",
    "\n",
    "\n",
    "* Por otro lado el promedio de días en mora de este conjunto es igual a 29,62, sin embargo, el promedio para las personas que contestaron no en la característica \"PTPUNIQUE\" es igual a 33.01.\n",
    "\n",
    "\n",
    "\n",
    "* De igual forma, se puede observar que el número de llamadas no ha aumentado de manera significativa, inclusive se podria afirmar que se ha mantenido dentro del mismo rango durante los ultimos 4 meses.\n",
    "\n",
    "\n"
   ]
  },
  {
   "cell_type": "markdown",
   "metadata": {},
   "source": [
    "3- La tercera pestaña habla sobre la distribución de la cantidad de llamadas que se le hace a un cliente con respecto a los valores de la característica \"PTPUNIQUE\", los resultados son los siguientes:\n",
    "\n",
    "- La cantidad de llamadas que deben realizarse a las personas que contestaron si en esta pregunta, oscila entre 1 y 8 llamadas a cada cliente.\n",
    "\n",
    "\n",
    "- Por otro lado, las cantidades de llamadas que se realizaron a las personas que contestaron negativamente, oscilan entre 1 y hasta los 60 contactos.\n",
    "\n",
    "\n"
   ]
  },
  {
   "cell_type": "markdown",
   "metadata": {},
   "source": [
    "<br>\n",
    "\n",
    "4- Por último, la cuarta pestaña muestra la distribución de cantidades de productos que tiene cada cliente y la distribución de cuotas vencidas, entre el grupo de personas que contestaron afirmativo y negativo en \"PTPUNIQUE\":\n",
    "\n",
    "\n",
    "* Se tiene que las personas que están en esta data set tienen entre 1 y más de 16 productos, sin embargo, la mayoría tiene 2 y 4 productos con el banco (36% y 17 % respectivamente).\n",
    "\n",
    "* Adicionalmente la distribución de cuotas vencidas no cambia entre los grupos de personas que contestaron positiva o negativamente si ese mismo día iban a pagar o no.\n"
   ]
  },
  {
   "cell_type": "markdown",
   "metadata": {},
   "source": [
    "En Conclusión, la información que nos brindan estos datasets de una forma exploratoria no serviría para establecer un perfil claro de quien se compromete a pagar el mismo dia o no.\n",
    "\n",
    "\n",
    "Adicionalmente sería interesante ver la característica pagos en una ventana de tiempo, para ver qué tan efectivo es el proceso de cobranza y si se puede segmentar mejor usando la información de mora o de producto sobre el que se está hablando.\n",
    "\n",
    "\n"
   ]
  }
 ],
 "metadata": {
  "kernelspec": {
   "display_name": "R",
   "language": "R",
   "name": "ir"
  },
  "language_info": {
   "codemirror_mode": "r",
   "file_extension": ".r",
   "mimetype": "text/x-r-source",
   "name": "R",
   "pygments_lexer": "r",
   "version": "3.6.1"
  }
 },
 "nbformat": 4,
 "nbformat_minor": 4
}
